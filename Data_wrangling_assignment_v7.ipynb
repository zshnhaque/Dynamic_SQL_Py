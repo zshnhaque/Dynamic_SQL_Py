{
 "cells": [
  {
   "cell_type": "code",
   "execution_count": 1,
   "metadata": {},
   "outputs": [],
   "source": [
    "import pyodbc\n",
    "import pandas as pd\n",
    "import hashlib"
   ]
  },
  {
   "cell_type": "code",
   "execution_count": 2,
   "metadata": {},
   "outputs": [],
   "source": [
    "import os.path"
   ]
  },
  {
   "cell_type": "code",
   "execution_count": 3,
   "metadata": {},
   "outputs": [],
   "source": [
    "import time\n",
    "import datetime"
   ]
  },
  {
   "cell_type": "code",
   "execution_count": 4,
   "metadata": {},
   "outputs": [],
   "source": [
    "class sql_server:\n",
    "    def __init__(self):\n",
    "        self.conn = None\n",
    "        self.df = None\n",
    "    def get_connect(self):\n",
    "        try:\n",
    "            self.conn = pyodbc.connect('Driver={ODBC Driver 17 for SQL Server};'\n",
    "                                       'Server=DESKTOP-3GBSUAG;'\n",
    "                                       'Database=Survey_Sample_A19;'\n",
    "                                       'Trusted_Connection=yes;')\n",
    "        except pyodbc.Error as error:\n",
    "            print(error.args[1])\n",
    "    def get_cursor(self,query):\n",
    "        self.cursor = self.conn.execute(query)\n",
    "        return self.cursor\n",
    "    def query_execute(self,query):\n",
    "        self.conn.execute(query)\n",
    "        self.conn.commit()\n",
    "    def execute_to_pandas_df(self,query):\n",
    "        self.df = pd.read_sql(query, self.conn)\n",
    "    def pandas_df_to_csv(self,path):\n",
    "        self.df.to_csv(path,index_label=False,index=False,na_rep='NaN')\n",
    "    def connection_close(self):\n",
    "        self.conn.close()"
   ]
  },
  {
   "cell_type": "code",
   "execution_count": 5,
   "metadata": {},
   "outputs": [],
   "source": [
    "file_path = \"D:/data_science/dsti_assignment/survey_data_A19/\"\n",
    "survey_struct_query = \"SELECT * FROM [dbo].[SurveyStructure];\""
   ]
  },
  {
   "cell_type": "code",
   "execution_count": 6,
   "metadata": {},
   "outputs": [],
   "source": [
    "def get_strQueryTemplateForAnswerColumn(survey_id,q_id):\n",
    "    survey_id = str(survey_id)\n",
    "    q_id = str(q_id)\n",
    "    query_p1 = \"COALESCE((SELECT a.Answer_Value FROM Answer as a WHERE a.UserId = u.UserId AND a.SurveyId = \"\n",
    "    query_p2 = \" AND a.QuestionId = \"\n",
    "    query_p3 = \"), -1) AS ANS_Q\"\n",
    "    query_all = query_p1+survey_id+query_p2+q_id+query_p3+q_id\n",
    "    return query_all"
   ]
  },
  {
   "cell_type": "code",
   "execution_count": 7,
   "metadata": {},
   "outputs": [],
   "source": [
    "def get_strQueryTemplateForNullColumnn(q_id):\n",
    "    q_id = str(q_id)\n",
    "    query = \"NULL AS ANS_Q\"+q_id\n",
    "    return query"
   ]
  },
  {
   "cell_type": "code",
   "execution_count": 8,
   "metadata": {},
   "outputs": [],
   "source": [
    "def get_strQueryTemplateOuterUnionQuery(survey_id,dynamic_ques_ans):\n",
    "    survey_id = str(survey_id)\n",
    "    dynamic_ques_ans = str(dynamic_ques_ans)\n",
    "    query_p1 = \"SELECT u.UserId,\"\n",
    "    query_p2 = str(survey_id)+\" as SurveyId,\"\n",
    "    query_p3 = dynamic_ques_ans + \" from [User] as u WHERE EXISTS (SELECT * FROM Answer as a WHERE u.UserId = a.UserId AND a.SurveyId = \"+survey_id+\")\"\n",
    "    query_all = query_p1+query_p2+query_p3\n",
    "    return query_all"
   ]
  },
  {
   "cell_type": "code",
   "execution_count": 9,
   "metadata": {},
   "outputs": [],
   "source": [
    "def currentQuestionCursor_query_fn(currentSurveyID):\n",
    "    currentSurveyID = str(currentSurveyID)\n",
    "    query_p1 = \"SELECT * FROM (SELECT SurveyId, QuestionId, 1 as InSurvey FROM SurveyStructure WHERE SurveyId = \"+str(currentSurveyID)\n",
    "    query_p2 = \" UNION SELECT \"+currentSurveyID+ \" as SurveyId, Q.QuestionId, 0 as InSurvey FROM Question as Q WHERE NOT EXISTS \"\n",
    "    query_p3 = \"( SELECT * FROM SurveyStructure as S WHERE S.SurveyId = \"+currentSurveyID + \" AND S.QuestionId = Q.QuestionId)) as t ORDER BY QuestionId\"\n",
    "    query_all = query_p1+query_p2+query_p3\n",
    "    return query_all"
   ]
  },
  {
   "cell_type": "code",
   "execution_count": 10,
   "metadata": {},
   "outputs": [],
   "source": [
    "def fn_GetAllSurveyDataSQL(total_surveys,total_questions):\n",
    "    strQueryTemplateForAnswerColumn = ''\n",
    "    strQueryTemplateForNullColumnn = ''\n",
    "    strQueryTemplateOuterUnionQuery = ''\n",
    "    currentSurveyId = None\n",
    "\n",
    "    strCurrentUnionQueryBlock = ''\n",
    "    strFinalQuery = ''\n",
    "    \n",
    "    surveyCursor1 = sql_server()\n",
    "    surveyCursor1.get_connect()\n",
    "    \n",
    "    surveyCursor = surveyCursor1.get_cursor(\"SELECT SurveyId FROM Survey ORDER BY SurveyId;\")\n",
    "    survey_tracker=0\n",
    "    for currentSurveyId in surveyCursor:\n",
    "        question_tracker=1\n",
    "        currentQuestionCursor_query = currentQuestionCursor_query_fn(currentSurveyId[0])+\";\"\n",
    "        currentQuestionCursor1 = sql_server()\n",
    "        currentQuestionCursor1.get_connect()\n",
    "        currentQuestionCursor=currentQuestionCursor1.get_cursor(currentQuestionCursor_query)\n",
    "\n",
    "        currentSurveyIdInQuestion = None\n",
    "        currentQuestionID = None\n",
    "        currentInSurvey = None\n",
    "        strColumnsQueryPart = ''\n",
    "        question_tracker = 0\n",
    "        for currentQuestionCursor_row in currentQuestionCursor:\n",
    "            currentSurveyIdInQuestion = currentQuestionCursor_row[0]\n",
    "            currentQuestionID = currentQuestionCursor_row[1]\n",
    "            currentInSurvey = currentQuestionCursor_row[2]\n",
    "            if currentInSurvey==0:\n",
    "                strColumnsQueryPart = strColumnsQueryPart+get_strQueryTemplateForNullColumnn(currentQuestionID)\n",
    "            else:\n",
    "                strColumnsQueryPart = strColumnsQueryPart+get_strQueryTemplateForAnswerColumn(currentSurveyId[0],currentQuestionID)\n",
    "            question_tracker = question_tracker+1\n",
    "            if question_tracker<total_questions:\n",
    "                strColumnsQueryPart = strColumnsQueryPart+' , '\n",
    "            else:\n",
    "                strColumnsQueryPart = strColumnsQueryPart+''\n",
    "        currentQuestionCursor1.connection_close()\n",
    "\n",
    "        strCurrentUnionQueryBlock = get_strQueryTemplateOuterUnionQuery(currentSurveyId[0],strColumnsQueryPart)\n",
    "        strFinalQuery = strFinalQuery + strCurrentUnionQueryBlock\n",
    "        survey_tracker=survey_tracker+1\n",
    "        if(survey_tracker<total_surveys):\n",
    "            strFinalQuery = strFinalQuery+' UNION '\n",
    "        else:\n",
    "            strFinalQuery = strFinalQuery+' ;'\n",
    "    surveyCursor1.connection_close()\n",
    "    return strFinalQuery"
   ]
  },
  {
   "cell_type": "code",
   "execution_count": 11,
   "metadata": {},
   "outputs": [],
   "source": [
    "def vw_AllSurveyData_sql(query,update_flag_field):\n",
    "    if update_flag_field:\n",
    "        query = \"ALTER VIEW [dbo].[vw_AllSurveyData] AS \"+query\n",
    "    else:\n",
    "        query = \"CREATE OR ALTER VIEW [dbo].[vw_AllSurveyData] AS \"+query\n",
    "    return query"
   ]
  },
  {
   "cell_type": "code",
   "execution_count": 12,
   "metadata": {},
   "outputs": [],
   "source": [
    "def create_survey_all_view(update_flag=0):\n",
    "    conn2 = sql_server()\n",
    "    conn2.get_connect()\n",
    "    survey_count_r = conn2.get_cursor(\"select count(distinct SurveyId) from [Survey];\")\n",
    "    for row in survey_count_r:\n",
    "        total_surveys_count = row[0]\n",
    "    question_count_r = conn2.get_cursor(\"select count(distinct QuestionId) from [Question];\")\n",
    "    for row in question_count_r:\n",
    "        total_questions_count = row[0]\n",
    "    conn2.connection_close()\n",
    "    get_all_survey_sql_query = fn_GetAllSurveyDataSQL(total_surveys_count,total_questions_count)\n",
    "    conn = sql_server()\n",
    "    conn.get_connect()\n",
    "    conn.execute_to_pandas_df(get_all_survey_sql_query)\n",
    "    conn.query_execute(vw_AllSurveyData_sql(get_all_survey_sql_query,update_flag))\n",
    "    \n",
    "    if update_flag:\n",
    "        ts = time.time()\n",
    "        st = datetime.datetime.fromtimestamp(ts).strftime('%Y-%m-%d %H:%M:%S')\n",
    "        st_str = st.split(' ')[0].replace('-','_')+'_'+st.split(' ')[1]\n",
    "        old_survey_file = pd.read_csv(file_path+'all_survey_view.csv')\n",
    "        old_survey_file.to_csv(file_path+'/old_surveys/all_survey_view_'+st_str+'.csv',index_label=False,index=False,na_rep='NaN')\n",
    "        conn.pandas_df_to_csv(file_path+'all_survey_view.csv')\n",
    "        print(\"Updating the file for storing the hash-value of Survey Structure to implement function 'trg_refreshSurveyView' \")\n",
    "        print(\"Old all_survey_view.csv is pushed to location :\",file_path+\"/old_surveys/\")\n",
    "    else:\n",
    "        conn.pandas_df_to_csv(file_path+'all_survey_view.csv')\n",
    "        print(\"1st time all_survey_view.csv is created\")\n",
    "        print(\"Creating the file for storing the hash-value of Survey Structure to implement function 'trg_refreshSurveyView' \")\n",
    "    \n",
    "    conn.execute_to_pandas_df(survey_struct_query)\n",
    "    survey_structure_hash_val_file = open(file_path+\"survey_structure_hash.txt\",\"w+\")\n",
    "    survey_hash_val = hashlib.sha256(conn.df.to_csv().encode()).hexdigest()\n",
    "    survey_structure_hash_val_file.write(str(survey_hash_val))\n",
    "    survey_structure_hash_val_file.close()\n",
    "    conn.connection_close()\n",
    "        "
   ]
  },
  {
   "cell_type": "code",
   "execution_count": 13,
   "metadata": {},
   "outputs": [],
   "source": [
    "def compare_survey_structure():\n",
    "    conn1 = sql_server()\n",
    "    conn1.get_connect()\n",
    "    conn1.execute_to_pandas_df(survey_struct_query)\n",
    "    hash_val_new_survey_struct = hashlib.sha256(conn1.df.to_csv().encode()).hexdigest()\n",
    "    old_survey_structure_hash_val_file = open(file_path+\"survey_structure_hash.txt\",\"r\")\n",
    "    old_survey_structure_hash_val_value = old_survey_structure_hash_val_file.readline()\n",
    "    conn1.connection_close()\n",
    "    if hash_val_new_survey_struct!=old_survey_structure_hash_val_value:\n",
    "        return 1\n",
    "    else:\n",
    "        return 2"
   ]
  },
  {
   "cell_type": "code",
   "execution_count": 14,
   "metadata": {},
   "outputs": [],
   "source": [
    "def view_all_survey():\n",
    "    print(\"summery of the Survey data (from the csv file in the system): \")\n",
    "    all_survey_df = pd.read_csv(file_path+'all_survey_view.csv')\n",
    "    print(\"First 5 records\")\n",
    "    print(all_survey_df.head())\n",
    "    print(\"Total number of records in all_survey_view.csv:\",all_survey_df.shape[0])"
   ]
  },
  {
   "cell_type": "code",
   "execution_count": 15,
   "metadata": {},
   "outputs": [],
   "source": [
    "def check_survey():\n",
    "    if os.path.isfile(file_path+'all_survey_view.csv'):\n",
    "        print(\"Survey exists\")\n",
    "        print(\"Checking if updation is required or not\")\n",
    "        if compare_survey_structure()==1:\n",
    "            print(\"Survey Structure table got updated !!\")\n",
    "            print(\"Creating updated view 'vw_AllSurveyData'\")\n",
    "            create_survey_all_view(1)\n",
    "        else:\n",
    "            print(\"No change in Survey Structure table, hence old existing all_survey_view.csv file is summerised below :-\")\n",
    "    else:\n",
    "        print (\"Survey does not exist and hence creating\")\n",
    "        create_survey_all_view()\n",
    "        print(\"all_survey_view.csv and vw_AllSurveyData view created in SQL Server and trigger func for survey structure implemented\")\n",
    "    view_all_survey()"
   ]
  },
  {
   "cell_type": "code",
   "execution_count": 16,
   "metadata": {},
   "outputs": [],
   "source": [
    "def main():\n",
    "    check_survey()"
   ]
  },
  {
   "cell_type": "code",
   "execution_count": 17,
   "metadata": {},
   "outputs": [
    {
     "name": "stdout",
     "output_type": "stream",
     "text": [
      "Survey exists\n",
      "Checking if updation is required or not\n",
      "No change in Survey Structure table, hence old existing all_survey_view.csv file is summerised below :-\n",
      "summery of the Survey data (from the csv file in the system): \n",
      "First 5 records\n",
      "   UserId  SurveyId  ANS_Q1  ANS_Q2  ANS_Q3  ANS_Q4\n",
      "0      42         1     3.0    -1.0     NaN     NaN\n",
      "1     296         1     5.0    -1.0     NaN     NaN\n",
      "2    1793         1    -1.0     6.0     NaN     NaN\n",
      "3    2411         1    -1.0     1.0     NaN     NaN\n",
      "4    2634         1     3.0    -1.0     NaN     NaN\n",
      "Total number of records in all_survey_view.csv: 4997\n"
     ]
    }
   ],
   "source": [
    "if __name__ == \"__main__\":\n",
    "    main()"
   ]
  }
 ],
 "metadata": {
  "kernelspec": {
   "display_name": "Python 3",
   "language": "python",
   "name": "python3"
  },
  "language_info": {
   "codemirror_mode": {
    "name": "ipython",
    "version": 3
   },
   "file_extension": ".py",
   "mimetype": "text/x-python",
   "name": "python",
   "nbconvert_exporter": "python",
   "pygments_lexer": "ipython3",
   "version": "3.7.3"
  }
 },
 "nbformat": 4,
 "nbformat_minor": 2
}
